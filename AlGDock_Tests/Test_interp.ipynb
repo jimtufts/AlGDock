{
 "cells": [
  {
   "cell_type": "code",
   "execution_count": 5,
   "id": "592544ba-99ed-4fd1-9395-acb32d98a395",
   "metadata": {},
   "outputs": [],
   "source": [
    "import openmm as mm\n",
    "import openmm.app as app\n",
    "import openmm.unit as unit\n",
    "import gridforceplugin\n",
    "import sys"
   ]
  },
  {
   "cell_type": "code",
   "execution_count": 2,
   "id": "0d8c79b1-6875-4e50-9741-567943a0a2f8",
   "metadata": {},
   "outputs": [
    {
     "name": "stdout",
     "output_type": "stream",
     "text": [
      "#\"Step\",\"Potential Energy (kJ/mole)\",\"Temperature (K)\"\n",
      "1000,-142724.37343246874,292.7062333736618\n",
      "2000,-140901.49843246874,298.56603288209357\n",
      "3000,-141074.43593246874,303.264613868362\n",
      "4000,-141151.93593246874,303.96825718821157\n",
      "5000,-140619.18593246874,293.31781654068425\n",
      "6000,-141213.77968246874,296.8305322078249\n",
      "7000,-140459.99843246874,300.8044714781755\n",
      "8000,-140261.37343246874,299.4970856494876\n",
      "9000,-140109.43593246874,297.74856739730467\n",
      "10000,-140441.12343246874,302.3177990539783\n"
     ]
    }
   ],
   "source": [
    "pdb = app.PDBFile('input.pdb')\n",
    "forcefield = app.ForceField('amber14-all.xml', 'amber14/tip3pfb.xml')\n",
    "system = forcefield.createSystem(pdb.topology, nonbondedMethod=app.PME, nonbondedCutoff=1*unit.nanometer, constraints=app.HBonds)\n",
    "integrator = mm.LangevinMiddleIntegrator(300*unit.kelvin, 1/unit.picosecond, 0.004*unit.picoseconds)\n",
    "simulation = app.Simulation(pdb.topology, system, integrator)\n",
    "simulation.context.setPositions(pdb.positions)\n",
    "simulation.minimizeEnergy()\n",
    "simulation.context.set\n",
    "simulation.reporters.append(app.PDBReporter('output.pdb', 1000))\n",
    "simulation.reporters.append(app.StateDataReporter(sys.stdout, 1000, step=True, potentialEnergy=True, temperature=True))\n",
    "simulation.step(10000)"
   ]
  },
  {
   "cell_type": "code",
   "execution_count": 8,
   "id": "32077d75-1e2e-4737-a9d8-2c054ff6ee26",
   "metadata": {},
   "outputs": [
    {
     "name": "stdout",
     "output_type": "stream",
     "text": [
      "0\n",
      "0\n"
     ]
    },
    {
     "ename": "OpenMMException",
     "evalue": "Cannot create a Context for a System with no particles",
     "output_type": "error",
     "traceback": [
      "\u001b[0;31m---------------------------------------------------------------------------\u001b[0m",
      "\u001b[0;31mOpenMMException\u001b[0m                           Traceback (most recent call last)",
      "Cell \u001b[0;32mIn [8], line 10\u001b[0m\n\u001b[1;32m      8\u001b[0m \u001b[38;5;28mprint\u001b[39m(top\u001b[38;5;241m.\u001b[39mgetNumAtoms())\n\u001b[1;32m      9\u001b[0m \u001b[38;5;28mprint\u001b[39m(system\u001b[38;5;241m.\u001b[39mgetNumParticles())\n\u001b[0;32m---> 10\u001b[0m simulation \u001b[38;5;241m=\u001b[39m \u001b[43mapp\u001b[49m\u001b[38;5;241;43m.\u001b[39;49m\u001b[43mSimulation\u001b[49m\u001b[43m(\u001b[49m\u001b[43mtop\u001b[49m\u001b[43m,\u001b[49m\u001b[43m \u001b[49m\u001b[43msystem\u001b[49m\u001b[43m,\u001b[49m\u001b[43m \u001b[49m\u001b[43mintegrator\u001b[49m\u001b[43m)\u001b[49m\n\u001b[1;32m     11\u001b[0m simulation\u001b[38;5;241m.\u001b[39msystem\u001b[38;5;241m.\u001b[39maddParticle(\u001b[38;5;241m12.\u001b[39m)\n\u001b[1;32m     12\u001b[0m simulation\u001b[38;5;241m.\u001b[39mcontext\u001b[38;5;241m.\u001b[39msetPositions(top\u001b[38;5;241m.\u001b[39mpositions)\n",
      "File \u001b[0;32m~/anaconda3/envs/openmm/lib/python3.9/site-packages/openmm/app/simulation.py:99\u001b[0m, in \u001b[0;36mSimulation.__init__\u001b[0;34m(self, topology, system, integrator, platform, platformProperties, state)\u001b[0m\n\u001b[1;32m     96\u001b[0m \u001b[38;5;28mself\u001b[39m\u001b[38;5;241m.\u001b[39mreporters \u001b[38;5;241m=\u001b[39m []\n\u001b[1;32m     97\u001b[0m \u001b[38;5;28;01mif\u001b[39;00m platform \u001b[38;5;129;01mis\u001b[39;00m \u001b[38;5;28;01mNone\u001b[39;00m:\n\u001b[1;32m     98\u001b[0m     \u001b[38;5;66;03m## The Context containing the current state of the simulation\u001b[39;00m\n\u001b[0;32m---> 99\u001b[0m     \u001b[38;5;28mself\u001b[39m\u001b[38;5;241m.\u001b[39mcontext \u001b[38;5;241m=\u001b[39m \u001b[43mmm\u001b[49m\u001b[38;5;241;43m.\u001b[39;49m\u001b[43mContext\u001b[49m\u001b[43m(\u001b[49m\u001b[38;5;28;43mself\u001b[39;49m\u001b[38;5;241;43m.\u001b[39;49m\u001b[43msystem\u001b[49m\u001b[43m,\u001b[49m\u001b[43m \u001b[49m\u001b[38;5;28;43mself\u001b[39;49m\u001b[38;5;241;43m.\u001b[39;49m\u001b[43mintegrator\u001b[49m\u001b[43m)\u001b[49m\n\u001b[1;32m    100\u001b[0m \u001b[38;5;28;01melif\u001b[39;00m platformProperties \u001b[38;5;129;01mis\u001b[39;00m \u001b[38;5;28;01mNone\u001b[39;00m:\n\u001b[1;32m    101\u001b[0m     \u001b[38;5;28mself\u001b[39m\u001b[38;5;241m.\u001b[39mcontext \u001b[38;5;241m=\u001b[39m mm\u001b[38;5;241m.\u001b[39mContext(\u001b[38;5;28mself\u001b[39m\u001b[38;5;241m.\u001b[39msystem, \u001b[38;5;28mself\u001b[39m\u001b[38;5;241m.\u001b[39mintegrator, platform)\n",
      "File \u001b[0;32m~/anaconda3/envs/openmm/lib/python3.9/site-packages/openmm/openmm.py:12378\u001b[0m, in \u001b[0;36mContext.__init__\u001b[0;34m(self, *args)\u001b[0m\n\u001b[1;32m  12359\u001b[0m \u001b[38;5;28;01mdef\u001b[39;00m \u001b[38;5;21m__init__\u001b[39m(\u001b[38;5;28mself\u001b[39m, \u001b[38;5;241m*\u001b[39margs):\n\u001b[1;32m  12360\u001b[0m     \u001b[38;5;124mr\u001b[39m\u001b[38;5;124;03m\"\"\"\u001b[39;00m\n\u001b[1;32m  12361\u001b[0m \u001b[38;5;124;03m    __init__(self, system, integrator) -> Context\u001b[39;00m\n\u001b[1;32m  12362\u001b[0m \u001b[38;5;124;03m    __init__(self, system, integrator, platform) -> Context\u001b[39;00m\n\u001b[0;32m   (...)\u001b[0m\n\u001b[1;32m  12376\u001b[0m \u001b[38;5;124;03m        a set of values for platform-specific properties. Keys are the property names.\u001b[39;00m\n\u001b[1;32m  12377\u001b[0m \u001b[38;5;124;03m    \"\"\"\u001b[39;00m\n\u001b[0;32m> 12378\u001b[0m     _openmm\u001b[38;5;241m.\u001b[39mContext_swiginit(\u001b[38;5;28mself\u001b[39m, \u001b[43m_openmm\u001b[49m\u001b[38;5;241;43m.\u001b[39;49m\u001b[43mnew_Context\u001b[49m\u001b[43m(\u001b[49m\u001b[38;5;241;43m*\u001b[39;49m\u001b[43margs\u001b[49m\u001b[43m)\u001b[49m)\n\u001b[1;32m  12380\u001b[0m     \u001b[38;5;28mself\u001b[39m\u001b[38;5;241m.\u001b[39m_system \u001b[38;5;241m=\u001b[39m args[\u001b[38;5;241m0\u001b[39m]\n\u001b[1;32m  12381\u001b[0m     \u001b[38;5;28mself\u001b[39m\u001b[38;5;241m.\u001b[39m_integrator \u001b[38;5;241m=\u001b[39m args[\u001b[38;5;241m1\u001b[39m]\n",
      "\u001b[0;31mOpenMMException\u001b[0m: Cannot create a Context for a System with no particles"
     ]
    }
   ],
   "source": [
    "top = app.topology.Topology()\n",
    "top.addAtom\n",
    "# chain = top.addChain(id=0)\n",
    "# res1 = top.addResidue(\"C1\", chain)\n",
    "# top.addAtom(\"C1\", app.element.carbon, res1)\n",
    "# t, r = forcefield.generateTemplatesForUnmatchedResidues(top)\n",
    "system = forcefield.createSystem(top, nonbondedMethod=app.NoCutoff, nonbondedCutoff=1*unit.nanometer, constraints=app.HBonds)\n",
    "print(top.getNumAtoms())\n",
    "print(system.getNumParticles())\n",
    "simulation = app.Simulation(top, system, integrator)\n",
    "simulation.system.addParticle(12.)\n",
    "simulation.context.setPositions(top.positions)\n",
    "simulation.minimizeEnergy()\n",
    "simulation.reporters.append(app.PDBReporter('output.pdb', 1000))\n",
    "simulation.reporters.append(app.StateDataReporter(sys.stdout, 1000, step=True, potentialEnergy=True, temperature=True))\n",
    "simulation.step(10000)"
   ]
  },
  {
   "cell_type": "code",
   "execution_count": 9,
   "id": "0d86707a-518e-4db0-8c9c-1537635b23e8",
   "metadata": {},
   "outputs": [],
   "source": [
    "# =============================================================================\n",
    "# Specify simulation parameters\n",
    "# =============================================================================\n",
    "\n",
    "nparticles = 2 # number of particles\n",
    "\n",
    "mass = 39.9 * unit.amu # mass\n",
    "sigma = 3.4 * unit.angstrom # Lennard-Jones sigma\n",
    "epsilon = 0.238 * unit.kilocalories_per_mole # Lennard-Jones well-depth\n",
    "charge = 0.0 * unit.elementary_charge # argon model has no charge\n",
    "\n",
    "nequil_steps = 5000 # number of dynamics steps for equilibration\n",
    "nprod_steps = 500 # number of dynamics steps per production iteration\n",
    "nprod_iterations = 50 # number of production iterations per lambda value\n",
    "\n",
    "reduced_density = 0.85 # reduced density rho*sigma^3\n",
    "temperature = 300 * unit.kelvin # temperature\n",
    "pressure = 1 * unit.atmosphere # pressure\n",
    "collision_rate = 5.0 / unit.picosecond # collision rate for Langevin thermostat\n",
    "timestep = 1 * unit.femtosecond # integrator timestep\n",
    "\n",
    "lambda_values = [0.0, 0.25, 0.5, 0.75, 1.0]\n",
    "nlambda = len(lambda_values)"
   ]
  },
  {
   "cell_type": "code",
   "execution_count": 10,
   "id": "77c11832-453c-44a9-adbf-fd60056d771a",
   "metadata": {},
   "outputs": [
    {
     "name": "stdout",
     "output_type": "stream",
     "text": [
      "sigma = 3.4 A\n",
      "box_edge = 21.53561071635121 A\n",
      "cutoff = 8.5 A\n"
     ]
    }
   ],
   "source": [
    "# =============================================================================\n",
    "# Compute box size.\n",
    "# =============================================================================\n",
    "\n",
    "volume = nparticles*(sigma**3)/reduced_density\n",
    "box_edge = volume**(1.0/3.0)\n",
    "cutoff = min(box_edge*0.49, 2.5*sigma) # Compute cutoff\n",
    "print(\"sigma = %s\" % sigma)\n",
    "print(\"box_edge = %s\" % box_edge)\n",
    "print(\"cutoff = %s\" % cutoff)"
   ]
  },
  {
   "cell_type": "code",
   "execution_count": 29,
   "id": "69e6c85b-22a1-4d0a-9f4a-99cb9d139014",
   "metadata": {},
   "outputs": [
    {
     "name": "stdout",
     "output_type": "stream",
     "text": [
      "Building alchemically-modified systems...\n"
     ]
    }
   ],
   "source": [
    "# =============================================================================\n",
    "# Build systems at each alchemical lambda value.\n",
    "# =============================================================================\n",
    "\n",
    "print(\"Building alchemically-modified systems...\")\n",
    "alchemical_systems = list() # alchemical_systems[i] is the alchemically-modified System object corresponding to lambda_values[i]\n",
    "for lambda_value in lambda_values:\n",
    "    # Create argon system where first particle is alchemically modified by lambda_value.\n",
    "    system = mm.System() \n",
    "    system.setDefaultPeriodicBoxVectors(mm.Vec3(box_edge, 0, 0), mm.Vec3(0, box_edge, 0), mm.Vec3(0, 0, box_edge))\n",
    "    force = mm.CustomNonbondedForce(\"\"\"4*epsilon*l12*(1/((alphaLJ*(1-l12) + (r/sigma)^6)^2) - 1/(alphaLJ*(1-l12) + (r/sigma)^6));\n",
    "                                   sigma=0.5*(sigma1+sigma2);\n",
    "                                   epsilon=sqrt(epsilon1*epsilon2);\n",
    "                                   alphaLJ=0.5;\n",
    "                                   l12=1-(1-lambda)*step(useLambda1+useLambda2-0.5)\"\"\")\n",
    "    force.addPerParticleParameter(\"sigma\")\n",
    "    force.addPerParticleParameter(\"epsilon\")\n",
    "    force.addPerParticleParameter(\"useLambda\")\n",
    "    force.addGlobalParameter(\"lambda\", lambda_value)\n",
    "    force.setNonbondedMethod(mm.NonbondedForce.CutoffPeriodic)\n",
    "    force.setCutoffDistance(cutoff) \n",
    "    for particle_index in range(nparticles):\n",
    "        system.addParticle(mass)\n",
    "        if (particle_index == 0):\n",
    "            # Add alchemically-modified particle.\n",
    "            force.addParticle([sigma, epsilon, 1])\n",
    "        else:\n",
    "            # Add normal particle.\n",
    "            force.addParticle([sigma, epsilon, 0])\n",
    "    system.addForce(force)\n",
    "\n",
    "   # Add barostat.\n",
    "   #barostat = MonteCarloBarostat(pressure, temperature)\n",
    "   #system.addForce(barostat)\n",
    "\n",
    "   # Store system.\n",
    "    alchemical_systems.append(system)\n",
    "\n",
    "# Create random initial positions.\n",
    "import numpy.random\n",
    "positions = unit.Quantity(numpy.random.uniform(high=box_edge/unit.angstroms, size=[nparticles,3]), unit.angstrom)"
   ]
  },
  {
   "cell_type": "code",
   "execution_count": null,
   "id": "dfb632fb-fa7d-49e0-aafe-526a47c0a90c",
   "metadata": {},
   "outputs": [],
   "source": [
    "# =============================================================================\n",
    "# Run simulations at each alchemical lambda value.\n",
    "# Reduced potentials of sampled configurations are computed for all alchemical states for use with MBAR analysis.\n",
    "# =============================================================================\n",
    "\n",
    "u_kln = numpy.zeros([nlambda, nlambda, nprod_iterations], numpy.float64) # u_kln[k,l,n] is reduced potential of snapshot n from simulation k at alchemical state l\n",
    "for (lambda_index, lambda_value) in enumerate(lambda_values):\n",
    "    # Create Integrator and Context.\n",
    "    integrator = mm.LangevinIntegrator(temperature, collision_rate, timestep)\n",
    "    context = mm.Context(alchemical_systems[lambda_index], integrator)\n",
    "\n",
    "    # Initiate from last set of positions.\n",
    "    context.setPositions(positions)\n",
    "\n",
    "    # Minimize energy from coordinates.\n",
    "    print(\"Lambda %d/%d : minimizing...\" % (lambda_index+1, nlambda))\n",
    "    mm.LocalEnergyMinimizer.minimize(context)\n",
    "\n",
    "    # Equilibrate.\n",
    "    print(\"Lambda %d/%d : equilibrating...\" % (lambda_index+1, nlambda))\n",
    "    integrator.step(nequil_steps)\n",
    "\n",
    "    # Sample.\n",
    "    position_history = list() # position_history[i] is the set of positions after iteration i\n",
    "    for iteration in range(nprod_iterations):\n",
    "        print(\"Lambda %d/%d : production iteration %d/%d\" % (lambda_index+1, nlambda, iteration+1, nprod_iterations))\n",
    "\n",
    "        # Run dynamics.\n",
    "        integrator.step(nprod_steps)\n",
    "\n",
    "        # Get coordinates.\n",
    "        state = context.getState(getPositions=True)\n",
    "        positions = state.getPositions(asNumpy=True)\n",
    "\n",
    "        # Store positions.\n",
    "        position_history.append(positions)\n",
    "      \n",
    "    # Clean up.\n",
    "    del context, integrator\n",
    "\n",
    "    # Compute reduced potentials of all snapshots at all alchemical states for MBAR.\n",
    "    print(\"Lambda %d/%d : computing energies at all states...\" % (lambda_index+1, nlambda))\n",
    "    beta = 1.0 / (unit.BOLTZMANN_CONSTANT_kB * unit.AVOGADRO_CONSTANT_NA * temperature) # inverse temperature\n",
    "    for l in range(nlambda):\n",
    "        # Set up Context just to evaluate energies.\n",
    "        integrator = mm.VerletIntegrator(timestep)\n",
    "        context = mm.Context(alchemical_systems[l], integrator)\n",
    "\n",
    "        # Compute reduced potentials of all snapshots.\n",
    "        for n in range(nprod_iterations):\n",
    "         context.setPositions(position_history[n])\n",
    "         state = context.getState(getEnergy=True)\n",
    "         u_kln[lambda_index, l, n] = beta * state.getPotentialEnergy()\n",
    "\n",
    "        # Clean up.\n",
    "        del context, integrator"
   ]
  },
  {
   "cell_type": "code",
   "execution_count": 7,
   "id": "781928d6-cf59-4f4e-a41e-340abc009e66",
   "metadata": {},
   "outputs": [
    {
     "name": "stdout",
     "output_type": "stream",
     "text": [
      "sigma = 3.4 A\n",
      "box_edge = 4.522194877312084 A\n",
      "cutoff = 2.2158754898829214 A\n"
     ]
    }
   ],
   "source": [
    "# =============================================================================\n",
    "# Specify simulation parameters\n",
    "# =============================================================================\n",
    "\n",
    "nparticles = 2 # number of particles\n",
    "\n",
    "mass = 12. * unit.amu # mass\n",
    "sigma = 3.4 * unit.angstrom # Lennard-Jones sigma\n",
    "epsilon = 0.238 * unit.kilocalories_per_mole # Lennard-Jones well-depth\n",
    "charge1 = 1. * unit.elementary_charge # argon model has no charge\n",
    "charge2 = -0.2 * unit.elementary_charge # argon model has no charge\n",
    "\n",
    "nequil_steps = 5000 # number of dynamics steps for equilibration\n",
    "nprod_steps = 500 # number of dynamics steps per production iteration\n",
    "nprod_iterations = 50 # number of production iterations per lambda value\n",
    "\n",
    "reduced_density = 0.85 # reduced density rho*sigma^3\n",
    "temperature = 300 * unit.kelvin # temperature\n",
    "pressure = 1 * unit.atmosphere # pressure\n",
    "collision_rate = 5.0 / unit.picosecond # collision rate for Langevin thermostat\n",
    "timestep = 1 * unit.femtosecond # integrator timestep\n",
    "\n",
    "lambda_values = [0.0, 0.25, 0.5, 0.75, 1.0]\n",
    "nlambda = len(lambda_values)\n",
    "\n",
    "# =============================================================================\n",
    "# Compute box size.\n",
    "# =============================================================================\n",
    "\n",
    "volume = nparticles*(sigma**3)/reduced_density\n",
    "box_edge = volume**(1.0/3.0)\n",
    "cutoff = min(box_edge*0.49, 2.5*sigma) # Compute cutoff\n",
    "print(\"sigma = %s\" % sigma)\n",
    "print(\"box_edge = %s\" % box_edge)\n",
    "print(\"cutoff = %s\" % cutoff)"
   ]
  },
  {
   "cell_type": "code",
   "execution_count": 8,
   "id": "99af1907-fb69-4699-adae-024fb8e8a8bb",
   "metadata": {},
   "outputs": [],
   "source": [
    "# =============================================================================\n",
    "# Build simple system to test AlGDock\n",
    "# =============================================================================\n",
    "\n",
    "system = mm.System() \n",
    "system.setDefaultPeriodicBoxVectors(mm.Vec3(box_edge, 0, 0), mm.Vec3(0, box_edge, 0), mm.Vec3(0, 0, box_edge))\n",
    "force = gridforceplugin.GridForce()\n",
    "force = mm.CustomNonbondedForce()"
   ]
  },
  {
   "cell_type": "code",
   "execution_count": 4,
   "id": "fb8ace00-8969-4f14-abda-1e39319f0bb8",
   "metadata": {},
   "outputs": [],
   "source": [
    "force.addPerParticleParameter(\"sigma\")\n",
    "force.addPerParticleParameter(\"epsilon\")\n",
    "force.addPerParticleParameter(\"useLambda\")\n",
    "force.addGlobalParameter(\"lambda\", lambda_value)\n",
    "force.setNonbondedMethod(mm.NonbondedForce.CutoffPeriodic)\n",
    "force.setCutoffDistance(cutoff) \n",
    "for particle_index in range(nparticles):\n",
    "    system.addParticle(mass)\n",
    "    if (particle_index == 0):\n",
    "        # Add alchemically-modified particle.\n",
    "        force.addParticle([sigma, epsilon, 1])\n",
    "    else:\n",
    "        # Add normal particle.\n",
    "        force.addParticle([sigma, epsilon, 0])\n",
    "system.addForce(force)"
   ]
  },
  {
   "cell_type": "code",
   "execution_count": null,
   "id": "6a755c44-bc75-44c9-9222-b228684ce4f9",
   "metadata": {},
   "outputs": [],
   "source": []
  }
 ],
 "metadata": {
  "kernelspec": {
   "display_name": "Python 3 (ipykernel)",
   "language": "python",
   "name": "python3"
  },
  "language_info": {
   "codemirror_mode": {
    "name": "ipython",
    "version": 3
   },
   "file_extension": ".py",
   "mimetype": "text/x-python",
   "name": "python",
   "nbconvert_exporter": "python",
   "pygments_lexer": "ipython3",
   "version": "3.9.13"
  }
 },
 "nbformat": 4,
 "nbformat_minor": 5
}
